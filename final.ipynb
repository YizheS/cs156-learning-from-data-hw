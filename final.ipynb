{
 "cells": [
  {
   "cell_type": "markdown",
   "metadata": {},
   "source": [
    "# FINAL\n",
    "\n",
    "## Nonlinear Transforms\n",
    "\n",
    "A polynomial transform of order Q = 10 applied to &Xscr; of dimension *d* = 2 results in a &Zscr; space of what dimensionality?\n",
    "\n",
    "Note that this number is a triangular number. z<sub>n</sub> be the dimension of the order n transform and let's write down a few examples and a and b be the coordinates in the &Xscr; space. Also, let T<sub>n</sub> be the nth triangular number (with T<sub>0</sub> = 0) and P<sub>n</sub> be the set of terms resulting from the polynomial transform of order n.\n",
    "\n",
    "\n",
    "P<sub>2</sub> &rArr; {1, a, b, a<sup>2</sup>b<sup>0</sup>, ab, a<sup>0</sup>b<sup>2</sup>} &rArr; z<sub>2</sub> = 6 = T<sub>3</sub>\n",
    "\n",
    "P<sub>3</sub> &rArr; P<sub>2</sub> &Union; {a<sup>3</sup>b<sup>0</sup>, a<sup>2</sup>b<sup>1</sup>, a<sup>1</sup>b<sup>2</sup>, a<sup>0</sup>b<sup>3</sup>} &rArr; z<sub>2</sub> + 4 = 10 = T<sub>4</sub>\n",
    "\n",
    "Thus, z<sub>n</sub> = T<sub>n+1</sub> and T<sub>11</sub> = z<sub>10</sub> = 55."
   ]
  },
  {
   "cell_type": "markdown",
   "metadata": {},
   "source": [
    "## Bias and Variance\n",
    "\n",
    "Give average hypothesis g-bar resulting from training the same model &Hscr; on different data sets &Dscr; to get g<sup>(&Dscr;)</sup> &isin; &Hscr; and taking the expected value of g<sup>(&Dscr;)</sup> w.r.t. &Dscr;. We want to consider a model &Hscr; that could result in g-bar &notin; &Hscr;.\n",
    "\n",
    "As the logistic regression function &theta;(s) = e<sup>s</sup>/(1+e<sup>s</sup>) is non-linear, we can expect the averaging done by taking the expected value not to be in &Hscr;."
   ]
  },
  {
   "cell_type": "markdown",
   "metadata": {},
   "source": [
    "## Overfitting\n",
    "\n",
    "We **cannot** always determine if there is overfitting by comparing the values of (E<sub>out</sub> - E<sub>in</sub>)"
   ]
  }
 ],
 "metadata": {
  "kernelspec": {
   "display_name": "Python 3",
   "language": "python",
   "name": "python3"
  },
  "language_info": {
   "codemirror_mode": {
    "name": "ipython",
    "version": 3
   },
   "file_extension": ".py",
   "mimetype": "text/x-python",
   "name": "python",
   "nbconvert_exporter": "python",
   "pygments_lexer": "ipython3",
   "version": "3.5.2"
  }
 },
 "nbformat": 4,
 "nbformat_minor": 2
}
