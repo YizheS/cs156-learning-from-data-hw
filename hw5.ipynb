{
 "cells": [
  {
   "cell_type": "markdown",
   "metadata": {
    "ein.tags": "worksheet-0",
    "slideshow": {
     "slide-type": "-"
    }
   },
   "source": [
    "# HW 5\n",
    "## Linear Regression Error\n",
    "\n",
    "Given noisy target y = **w**<sup>*T</sup>x + &epsilon; &SuchThat; x &isin; &reals;<sup>d</sub> (with x<sub>0</sub> = 1), y &isin; &reals;, w* unknown vector, &epsilon; noise term with zero mean and &sigma;<sup>2</sup> variance; data set &Dscr; = {(x1, y1),...,(xN, yN)} and the equation:\n",
    "\n",
    "\n",
    "&Eopf;<sub>&Dscr;</sub>[E<sub>in</sub>(w<sub>lin</sub>)] = &sigma;<sup>2</sup>(1 - (d+1)/N)\n",
    "\n",
    "\n",
    "Let the LH be &tau;, then:\n",
    "\n",
    "&tau;/(&sigma;<sup>2</sup>) = 1 - (d+1)/N\n",
    "\n",
    "&rArr; (d+1)/N = 1-&tau;/(&sigma;<sup>2</sup>)\n",
    "\n",
    "&rArr; (d+1)/(1-&tau;/(&sigma;<sup>2</sup>)) = N\n",
    "\n",
    "\n",
    "\n",
    "For &sigma; = 0.1, d = 8, E<sub>in</sub> &gt; 0.008, want smallest N.\n",
    "\n",
    "&rArr; 9/(1 - 0.008/(0.1<sup>2</sup>)) < N\n",
    "\n",
    "&rArr; 45 < N\n",
    "\n",
    "\n",
    "Thus the smallest given N that satisfies this is **100**\n",
    "\n"
   ]
  }
 ],
 "metadata": {
  "kernelspec": {
   "display_name": "Python 3",
   "name": "python3"
  },
  "name": "Untitled.ipynb"
 },
 "nbformat": 4,
 "nbformat_minor": 2
}
