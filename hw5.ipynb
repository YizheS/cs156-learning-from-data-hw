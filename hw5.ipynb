{
 "cells": [
  {
   "cell_type": "code",
   "execution_count": 1,
   "metadata": {
    "autoscroll": false,
    "collapsed": false,
    "ein.tags": "worksheet-0",
    "slideshow": {
     "slide-type": "-"
    }
   },
   "outputs": [],
   "source": [
    "import math\n",
    "import numpy as np"
   ]
  },
  {
   "cell_type": "markdown",
   "metadata": {
    "ein.tags": "worksheet-0",
    "slideshow": {
     "slide-type": "-"
    }
   },
   "source": [
    "# HW 5\n",
    "## Linear Regression Error\n",
    "\n",
    "Given noisy target y = **w**<sup>*T</sup>x + &epsilon; &SuchThat; x &isin; &reals;<sup>d</sup> (with x<sub>0</sub> = 1), y &isin; &reals;, w* unknown vector, &epsilon; noise term with zero mean and &sigma;<sup>2</sup> variance; data set &Dscr; = {(x1, y1),...,(xN, yN)} and the equation:\n",
    "\n",
    "\n",
    "&#120124;<sub>&#119967;</sub>[E<sub>in</sub>(w<sub>lin</sub>)] = &sigma;<sup>2</sup>(1 - (d+1)/N)\n",
    "\n",
    "\n",
    "Let the LH be &tau;, then:\n",
    "\n",
    "&tau;/(&sigma;<sup>2</sup>) = 1 - (d+1)/N\n",
    "\n",
    "&rArr; (d+1)/N = 1-&tau;/(&sigma;<sup>2</sup>)\n",
    "\n",
    "&rArr; (d+1)/(1-&tau;/(&sigma;<sup>2</sup>)) = N\n",
    "\n",
    "\n",
    "\n",
    "For &sigma; = 0.1, d = 8, E<sub>in</sub> &gt; 0.008, want smallest N.\n",
    "\n",
    "&rArr; 9/(1 - 0.008/(0.1<sup>2</sup>)) < N\n",
    "\n",
    "&rArr; 45 < N\n",
    "\n",
    "\n",
    "Thus the smallest given N that satisfies this is **100**\n",
    "\n"
   ]
  },
  {
   "cell_type": "markdown",
   "metadata": {
    "ein.tags": "worksheet-0",
    "slideshow": {
     "slide-type": "-"
    }
   },
   "source": [
    "## Nonlinear Transforms\n",
    "\n",
    "**Given :** &phi;(1, x1, x2) = (1, x1<sup>2</sup>, x2<sup>2</sup>)\n",
    "\n",
    "**Want :** weights giving a hyperbolic decision boundary\n",
    "\n",
    "\n",
    "\n",
    "Since the general equation of a hyperbola is x<sup>2</sup>/a<sup>2</sup> - y<sup>2</sup>/b<sup>2</sup> = 1 and we want h(x) to be negative when x1<sup>2</sup> is large, the correct weights should be **w1 < 0, w2 > 0**.\n",
    "\n",
    "**Given :** &phi;<sub>4</sub>: x &rarr; (1, x1, x1<sup>2</sup>, x1*x2, x2<sup>2</sup>, x1<sup>3</sup>, x1<sup>2</sup>*x2, x1*x2<sup>2</sup>, x2<sup>3</sup>, x1<sup>4</sup>, x1<sup>3</sup>*x2, x1<sup>2</sup>*x2<sup>2</sup>, x1*x2<sup>3</sup>, x2<sup>4</sup>), d = 13.\n",
    "\n",
    "**Want :** VC dimension\n",
    "\n",
    "\n",
    "Since VC dimension for a linear model = d + 1, d<sub>VC</sub> = 14, thus the lowest number given not smaller than the VC dimension is **15**."
   ]
  },
  {
   "cell_type": "markdown",
   "metadata": {
    "ein.tags": "worksheet-0",
    "slideshow": {
     "slide-type": "-"
    }
   },
   "source": [
    "## Gradient Descent\n",
    "\n",
    "**Given :** nonlinear error surface E(u,v) = (u*e<sup>v</sup> - 2*v*e<sup>-u</sup>)<sup>2</sup>, starting point (u,v) = (1,1), learning rate &eta; = 0.1\n",
    "\n",
    "- &part;E/&part;u = 2*(e<sup>v</sup> + 2*v*e<sup>-u</sup>) * (u*e<sup>v</sup> - 2*v*e<sup>-u</sup>)\n",
    "- &part;E/&part;v = 2*(u*e<sup>v</sup> - 2*e<sup>-u</sup>)*(u*e<sup>v</sup> - 2*v*e<sup>-u</sup>)\n"
   ]
  },
  {
   "cell_type": "code",
   "execution_count": 10,
   "metadata": {
    "autoscroll": false,
    "collapsed": false,
    "ein.tags": "worksheet-0",
    "slideshow": {
     "slide-type": "-"
    }
   },
   "outputs": [
    {
     "name": "stdout",
     "output_type": "stream",
     "text": [
      "With starting coordinates (1.000000,1.000000), learning rate 0.100000 and threshold 1.000000e-13:\n",
      "It took 10 iterations to achieve an error of 1.208683e-15 ending at coordinates (0.044736,0.023959).\n",
      "Iterating coordinate-wise for 15 iterations, the resulting error is 0.139814.\n"
     ]
    }
   ],
   "source": [
    "gd_thresh = 10e-14\n",
    "gd_lrate = 0.1\n",
    "gd_start = np.array([1,1])\n",
    "gd_coord_iters = 15\n",
    "def gd_error(cur_coords):\n",
    "    u = cur_coords[0]\n",
    "    v = cur_coords[1]\n",
    "    cur_error = math.pow(u*math.pow(math.e, v) - 2.0*v*math.pow(math.e, -1 * u), 2.0)\n",
    "    return cur_error\n",
    "\n",
    "def gd_partial(cur_coords):\n",
    "    u = cur_coords[0]\n",
    "    v = cur_coords[1]\n",
    "    u_coord = 2.0*(math.pow(math.e, v) + 2.0*v*math.pow(math.e, -1 * u)) * (u*math.pow(math.e,v) - 2.0*v*math.pow(math.e, -1 * u))\n",
    "    v_coord = 2.0*(u*math.pow(math.e, v) - 2.0*math.pow(math.e, -1 * u))*(u*math.pow(math.e, v) - 2*v*math.pow(math.e, -1 * u))\n",
    "    return np.array([u_coord, v_coord])\n",
    "\n",
    "def gd_perform(coords, l_rate, threshold):\n",
    "    num_iterations = 0\n",
    "    cur_error = gd_error(coords)\n",
    "    while cur_error >= threshold:\n",
    "        num_iterations = num_iterations + 1\n",
    "        cur_partial = gd_partial(coords)\n",
    "        coords = np.subtract(coords, np.multiply(l_rate, cur_partial))\n",
    "        cur_error = gd_error(coords)\n",
    "    return coords, cur_error, num_iterations\n",
    "\n",
    "def gd_coord_perform(coords, l_rate, iters):\n",
    "    #instead of moving along both coords, moving along u, then v, then u, then v...\n",
    "    cur_error = 0\n",
    "    for cur_iter in range(iters):\n",
    "        cur_partial = gd_partial(coords)\n",
    "        #first move along u coord so 0 out v coord\n",
    "        coords = np.subtract(coords, np.multiply(l_rate, np.multiply(np.array([1,0]), cur_partial)))\n",
    "        #now redo for v coord\n",
    "        cur_partial = gd_partial(coords)\n",
    "        coords = np.subtract(coords, np.multiply(l_rate, np.multiply(np.array([0,1]), cur_partial)))\n",
    "        cur_error = gd_error(coords)\n",
    "    return cur_error\n",
    "\n",
    "\n",
    "gd_coords, gd_err, gd_numiters = gd_perform(gd_start, gd_lrate, gd_thresh)\n",
    "gd_cerr = gd_coord_perform(gd_start, gd_lrate, gd_coord_iters)\n",
    "print(\"With starting coordinates (%f,%f), learning rate %f and threshold %e:\" % (gd_start[0], gd_start[1], gd_lrate, gd_thresh))\n",
    "print(\"It took %d iterations to achieve an error of %e ending at coordinates (%f,%f).\" % (gd_numiters, gd_err, gd_coords[0], gd_coords[1]))\n",
    "print(\"Iterating coordinate-wise for %d iterations, the resulting error is %f.\" % (gd_coord_iters, gd_cerr))\n"
   ]
  }
 ],
 "metadata": {
  "kernelspec": {
   "display_name": "Python 3",
   "name": "python3"
  },
  "name": "hw5.ipynb"
 },
 "nbformat": 4,
 "nbformat_minor": 2
}
