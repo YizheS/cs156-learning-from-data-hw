{
 "cells": [
  {
   "cell_type": "markdown",
   "metadata": {
    "ein.tags": "worksheet-0",
    "slideshow": {
     "slide-type": "-"
    }
   },
   "source": [
    "# HW4"
   ]
  },
  {
   "cell_type": "markdown",
   "metadata": {
    "ein.tags": "worksheet-0",
    "slideshow": {
     "slide-type": "-"
    }
   },
   "source": [
    "## GENERALIZATION ERROR"
   ]
  },
  {
   "cell_type": "markdown",
   "metadata": {
    "ein.tags": "worksheet-0",
    "slideshow": {
     "slide-type": "-"
    }
   },
   "source": [
    "### NOTES"
   ]
  },
  {
   "cell_type": "markdown",
   "metadata": {
    "ein.tags": "worksheet-0",
    "slideshow": {
     "slide-type": "-"
    }
   },
   "source": [
    "- d<sub>vc</sub> = VC dimension, highest number of points shatterable by hypothesis set H (m<sub>H</sub>(N) = 2<sup>N</sup>\n",
    "- &delta; = 4 * m<sub>H</sub>(2N) e<sup>(-N/8)&epsilon;<sup>2</sup></sup>\n",
    "&rArr; ln(&delta;/4) - ln(m<sub>H</sub>(2N)) = (-N/8) * &epsilon;<sup>2</sup> \n",
    "&rArr; (8/N) * (ln (m<sub>H</sub>(2N)) - ln(&delta;/4)) = &epsilon;<sup>2</sup>\n",
    "- For N &gt; d<sub>vc</sub>, use simple approximation m<sub>H</sub>(N) &asymp; N<sup>d<sub>vc</sub></sup>\n",
    "&rArr; (8/N) * (ln ((2N)<sup>d<sub>vc</sub></sup>) - ln(&delta;/4)) = &epsilon;<sup>2</sup>\n",
    "&rArr; (8/N) * ((d<sub>vc</sub> * ln(2N)) - ln(&delta;/4)) = &epsilon;<sup>2</sup>\n",
    "\n",
    "Given d<sub>vc</sub> = 10, &delta; = 0.95 (95% confidence), here are some N and epsilon. Note that N = 460,000 yields an epsilon &le; 0.05. "
   ]
  },
  {
   "cell_type": "code",
   "execution_count": 1,
   "metadata": {},
   "outputs": [
    {
     "name": "stdout",
     "output_type": "stream",
     "text": [
      "N = 400000 : epsilon = 0.052414\n",
      "N = 420000 : epsilon = 0.051242\n",
      "N = 440000 : epsilon = 0.050148\n",
      "N = 480000 : epsilon = 0.048164\n"
     ]
    }
   ],
   "source": [
    "import math\n",
    "\n",
    "def get_eps(delta, N, dvc):\n",
    "    return math.sqrt((8.0/N)*((dvc*math.log(2.0*N))-math.log(delta/4.0)))\n",
    "\n",
    "prob1_N = [400000,420000,440000,480000]\n",
    "prob1_delta = 0.95\n",
    "prob1_dvc = 10\n",
    "\n",
    "for cur_N in prob1_N:\n",
    "    cur_eps = get_eps(prob1_delta, cur_N, prob1_dvc)\n",
    "    print(\"N = %d : epsilon = %f\" % (cur_N, cur_eps))"
   ]
  },
  {
   "cell_type": "markdown",
   "metadata": {},
   "source": [
    "Now we wish to compare bounds on generalization error &epsilon; holding with probability 1 - &delta;. We wish to compare the original VC bound, Rademacher penalty bound, Parrondo and Van den Broek bound, and Devroye bound on d<sub>vc</sub> and &delta; = 0.05. "
   ]
  }
 ],
 "metadata": {
  "kernelspec": {
   "display_name": "Python 3",
   "language": "python",
   "name": "python3"
  },
  "language_info": {
   "codemirror_mode": {
    "name": "ipython",
    "version": 3
   },
   "file_extension": ".py",
   "mimetype": "text/x-python",
   "name": "python",
   "nbconvert_exporter": "python",
   "pygments_lexer": "ipython3",
   "version": "3.5.2"
  },
  "name": "Untitled.ipynb"
 },
 "nbformat": 4,
 "nbformat_minor": 2
}
