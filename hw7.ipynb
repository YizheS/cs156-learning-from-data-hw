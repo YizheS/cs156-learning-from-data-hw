{
 "cells": [
  {
   "cell_type": "code",
   "execution_count": 1,
   "metadata": {
    "collapsed": true
   },
   "outputs": [],
   "source": [
    "import numpy as np\n",
    "import math\n",
    "from hw6_dataload import LFD_Data\n",
    "from hw6_nlt import LinRegNLT2"
   ]
  },
  {
   "cell_type": "markdown",
   "metadata": {},
   "source": [
    "# HW 7\n",
    "## Validation\n",
    "**Given :** Linear Regression with nonlinear transformation.\n",
    "\n",
    "\n",
    "&Phi;(x) = (1, x<sub>1</sub>, x<sub>2</sub>, x<sub>1</sub><sup>, 2</sup>, x<sub>2</sub><sup>2</sup>, x<sub>1</sub>x<sub>2</sub>, |x<sub>1</sub> - x<sub>2</sub>|, |x<sub>1</sub> + x<sub>2</sub>|)\n",
    "\n",
    "\n",
    "As this transformation is the same as the one from HW6 (as well as the datasets), I will reuse the classes from the last homework."
   ]
  }
 ],
 "metadata": {
  "kernelspec": {
   "display_name": "Python 3",
   "language": "python",
   "name": "python3"
  },
  "language_info": {
   "codemirror_mode": {
    "name": "ipython",
    "version": 3
   },
   "file_extension": ".py",
   "mimetype": "text/x-python",
   "name": "python",
   "nbconvert_exporter": "python",
   "pygments_lexer": "ipython3",
   "version": "3.5.2"
  }
 },
 "nbformat": 4,
 "nbformat_minor": 2
}
